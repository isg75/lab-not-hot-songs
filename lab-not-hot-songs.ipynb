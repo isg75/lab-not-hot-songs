{
 "cells": [
  {
   "cell_type": "code",
   "execution_count": 1,
   "id": "64631ad4-963d-4251-b7c5-36b5003d569b",
   "metadata": {},
   "outputs": [],
   "source": [
    "import h5py\n",
    "import os\n",
    "import glob\n",
    "import hdf5_getters\n",
    "import tables\n",
    "import pandas as pd\n",
    "import requests\n",
    "from bs4 import BeautifulSoup\n",
    "import re"
   ]
  },
  {
   "cell_type": "markdown",
   "id": "9d048996-7e32-4dd1-961a-4f8add4574ee",
   "metadata": {},
   "source": [
    "# using functions defined externally to use the chosen dataset"
   ]
  },
  {
   "cell_type": "code",
   "execution_count": 2,
   "id": "225ae462-0145-400a-ba77-17cf4aac7be4",
   "metadata": {},
   "outputs": [],
   "source": [
    "def count_all_files(basedir,ext='.h5') :\n",
    "    cnt = 0\n",
    "    for root, dirs, files in os.walk(basedir):\n",
    "        files = glob.glob(os.path.join(root,'*'+ext))\n",
    "        cnt += len(files)\n",
    "    return cnt"
   ]
  },
  {
   "cell_type": "code",
   "execution_count": 3,
   "id": "20781920-ac5f-40b7-9c6d-7d98a169746c",
   "metadata": {},
   "outputs": [],
   "source": [
    "def get_all_titles(basedir,ext='.h5') :\n",
    "    titles = []\n",
    "    for root, dirs, files in os.walk(basedir):\n",
    "        files = glob.glob(os.path.join(root,'*'+ext))\n",
    "        for f in files:\n",
    "            h5 = hdf5_getters.open_h5_file_read(f)\n",
    "            titles.append( hdf5_getters.get_title(h5) )\n",
    "            h5.close()\n",
    "    return titles"
   ]
  },
  {
   "cell_type": "code",
   "execution_count": 4,
   "id": "301dd1a5-953f-4bcd-852b-2c9b2fe13661",
   "metadata": {},
   "outputs": [],
   "source": [
    "titles = count_all_files('./MillionSongSubset', ext='.h5')"
   ]
  },
  {
   "cell_type": "code",
   "execution_count": 5,
   "id": "67163a44-4efc-48b3-a8e9-abec4f3c846d",
   "metadata": {},
   "outputs": [
    {
     "data": {
      "text/plain": [
       "10000"
      ]
     },
     "execution_count": 5,
     "metadata": {},
     "output_type": "execute_result"
    }
   ],
   "source": [
    "titles"
   ]
  },
  {
   "cell_type": "markdown",
   "id": "ec7a9675-24ac-41ae-b6df-13f444636c28",
   "metadata": {},
   "source": [
    "# creating the columns for the not_hot_songs dataframe "
   ]
  },
  {
   "cell_type": "code",
   "execution_count": 6,
   "id": "ffce6744-5bef-4d59-8001-b21572819145",
   "metadata": {},
   "outputs": [],
   "source": [
    "all_titles = get_all_titles('./MillionSongSubset', ext='.h5')"
   ]
  },
  {
   "cell_type": "code",
   "execution_count": 7,
   "id": "d9bb556e-58ec-4a1b-96a4-0f8d6180e57e",
   "metadata": {},
   "outputs": [],
   "source": [
    "def get_all_artists(basedir,ext='.h5') :\n",
    "    artists = []\n",
    "    for root, dirs, files in os.walk(basedir):\n",
    "        files = glob.glob(os.path.join(root,'*'+ext))\n",
    "        for f in files:\n",
    "            h5 = hdf5_getters.open_h5_file_read(f)\n",
    "            artists.append( hdf5_getters.get_artist_name(h5) )\n",
    "            h5.close()\n",
    "    return artists"
   ]
  },
  {
   "cell_type": "code",
   "execution_count": 8,
   "id": "21e1aca3-acce-451f-839c-7d55e3381e4a",
   "metadata": {},
   "outputs": [],
   "source": [
    "all_artists = get_all_artists('./MillionSongSubset', ext='.h5')"
   ]
  },
  {
   "cell_type": "code",
   "execution_count": 9,
   "id": "aca2c5e3-4ccb-423c-af73-70c894d0b62c",
   "metadata": {},
   "outputs": [],
   "source": [
    "not_hot_songs = pd.DataFrame({\"Title\": all_titles, \"Artist\": all_artists})"
   ]
  },
  {
   "cell_type": "code",
   "execution_count": 10,
   "id": "5e4c6427-e756-4716-8da1-f58c4d34acd4",
   "metadata": {},
   "outputs": [],
   "source": [
    "not_hot_songs['Title'] = not_hot_songs['Title'].str.decode('utf-8').str.strip(\"'\")\n",
    "not_hot_songs['Artist'] = not_hot_songs['Artist'].str.decode('utf-8').str.strip(\"'\")"
   ]
  },
  {
   "cell_type": "code",
   "execution_count": 11,
   "id": "32a5907d-5911-47b1-8ef4-89deb2025949",
   "metadata": {},
   "outputs": [
    {
     "data": {
      "text/html": [
       "<div>\n",
       "<style scoped>\n",
       "    .dataframe tbody tr th:only-of-type {\n",
       "        vertical-align: middle;\n",
       "    }\n",
       "\n",
       "    .dataframe tbody tr th {\n",
       "        vertical-align: top;\n",
       "    }\n",
       "\n",
       "    .dataframe thead th {\n",
       "        text-align: right;\n",
       "    }\n",
       "</style>\n",
       "<table border=\"1\" class=\"dataframe\">\n",
       "  <thead>\n",
       "    <tr style=\"text-align: right;\">\n",
       "      <th></th>\n",
       "      <th>Title</th>\n",
       "      <th>Artist</th>\n",
       "    </tr>\n",
       "  </thead>\n",
       "  <tbody>\n",
       "    <tr>\n",
       "      <th>0</th>\n",
       "      <td>I Didn't Mean To</td>\n",
       "      <td>Casual</td>\n",
       "    </tr>\n",
       "    <tr>\n",
       "      <th>1</th>\n",
       "      <td>Soul Deep</td>\n",
       "      <td>The Box Tops</td>\n",
       "    </tr>\n",
       "    <tr>\n",
       "      <th>2</th>\n",
       "      <td>Amor De Cabaret</td>\n",
       "      <td>Sonora Santanera</td>\n",
       "    </tr>\n",
       "    <tr>\n",
       "      <th>3</th>\n",
       "      <td>Something Girls</td>\n",
       "      <td>Adam Ant</td>\n",
       "    </tr>\n",
       "    <tr>\n",
       "      <th>4</th>\n",
       "      <td>Face the Ashes</td>\n",
       "      <td>Gob</td>\n",
       "    </tr>\n",
       "    <tr>\n",
       "      <th>...</th>\n",
       "      <td>...</td>\n",
       "      <td>...</td>\n",
       "    </tr>\n",
       "    <tr>\n",
       "      <th>9995</th>\n",
       "      <td>The Hanged Man</td>\n",
       "      <td>Moonspell</td>\n",
       "    </tr>\n",
       "    <tr>\n",
       "      <th>9996</th>\n",
       "      <td>The Wonderful World Of The Young</td>\n",
       "      <td>Danny Williams</td>\n",
       "    </tr>\n",
       "    <tr>\n",
       "      <th>9997</th>\n",
       "      <td>Sentimental Man</td>\n",
       "      <td>Winston Reedy</td>\n",
       "    </tr>\n",
       "    <tr>\n",
       "      <th>9998</th>\n",
       "      <td>Zydeco In D-Minor</td>\n",
       "      <td>Myrick \"Freeze\" Guillory</td>\n",
       "    </tr>\n",
       "    <tr>\n",
       "      <th>9999</th>\n",
       "      <td>Shattered Life</td>\n",
       "      <td>Seventh Day Slumber</td>\n",
       "    </tr>\n",
       "  </tbody>\n",
       "</table>\n",
       "<p>10000 rows × 2 columns</p>\n",
       "</div>"
      ],
      "text/plain": [
       "                                 Title                    Artist\n",
       "0                     I Didn't Mean To                    Casual\n",
       "1                            Soul Deep              The Box Tops\n",
       "2                      Amor De Cabaret          Sonora Santanera\n",
       "3                      Something Girls                  Adam Ant\n",
       "4                       Face the Ashes                       Gob\n",
       "...                                ...                       ...\n",
       "9995                    The Hanged Man                 Moonspell\n",
       "9996  The Wonderful World Of The Young            Danny Williams\n",
       "9997                   Sentimental Man             Winston Reedy\n",
       "9998                 Zydeco In D-Minor  Myrick \"Freeze\" Guillory\n",
       "9999                    Shattered Life       Seventh Day Slumber\n",
       "\n",
       "[10000 rows x 2 columns]"
      ]
     },
     "execution_count": 11,
     "metadata": {},
     "output_type": "execute_result"
    }
   ],
   "source": [
    "not_hot_songs"
   ]
  },
  {
   "cell_type": "markdown",
   "id": "e308206d-7ea4-486d-9190-c15cdf4be99a",
   "metadata": {},
   "source": [
    "# calling the hot_100_songs to check for duplicates of the not_hot_songs inside it and saving the not_hot_songs in a .csv file"
   ]
  },
  {
   "cell_type": "code",
   "execution_count": 12,
   "id": "07d04e56-45ff-41f7-a2bc-25703f373aa5",
   "metadata": {},
   "outputs": [],
   "source": [
    "def scrape_100():\n",
    "    \n",
    "    \"\"\"\n",
    "    Scrapes the Billboard Hot 100 chart and returns a DataFrame with song titles and artists.\n",
    "    \n",
    "    Returns:\n",
    "        pandas.DataFrame: DataFrame containing the song titles and artists.\n",
    "    \"\"\"\n",
    "    \n",
    "    url = \"https://www.billboard.com/charts/hot-100/\"\n",
    "    response = requests.get(url)\n",
    "    soup = BeautifulSoup(response.text, \"html.parser\")\n",
    "\n",
    "    # Scrapping for the titles of the Hot 100\n",
    "    title = []\n",
    "    for li in soup.select(\"li.lrv-u-width-100p li h3\"):\n",
    "        title.append(li.get_text().strip())\n",
    "        \n",
    "    # Scrapping for their respective artists    \n",
    "    artist = []\n",
    "    for i in soup.select(\"li.lrv-u-width-100p li span\"):\n",
    "        text = i.get_text().strip()\n",
    "        match = re.match(r'^[A-Za-z\\s]+(?:[A-Za-z0-9\\s\\W]*[A-Za-z0-9])?$', text)\n",
    "        if match:\n",
    "            artist.append(text)\n",
    "    \n",
    "    # Saving the data into a DataFrame\n",
    "    hot_100_songs = pd.DataFrame({\"Title\": title, \"Artist\": artist})\n",
    "\n",
    "    return hot_100_songs\n"
   ]
  },
  {
   "cell_type": "code",
   "execution_count": 13,
   "id": "8923965f-f8a5-42ba-8d92-8c571d753353",
   "metadata": {},
   "outputs": [],
   "source": [
    "hot_100_songs = scrape_100()"
   ]
  },
  {
   "cell_type": "code",
   "execution_count": 14,
   "id": "4719fd4a-cb5f-47a8-bff0-caf3eb51fb04",
   "metadata": {},
   "outputs": [],
   "source": [
    "def remove_duplicates(not_hot_songs, hot_100_songs):\n",
    "    \"\"\"\n",
    "    Removes rows from the 'not_hot_songs' dataframe if their values are equal to any row in the 'hot_100_songs' dataframe.\n",
    "\n",
    "    Args:\n",
    "        not_hot_songs (pandas.DataFrame): DataFrame with 'title' and 'artist' columns.\n",
    "        hot_100_songs (pandas.DataFrame): DataFrame with 'title' and 'artist' columns.\n",
    "\n",
    "    Returns:\n",
    "        pandas.DataFrame: Updated 'not_hot_songs' DataFrame with duplicate rows removed.\n",
    "    \"\"\"\n",
    "\n",
    "    # Check if any rows in 'not_hot_songs' are duplicates in 'hot_100_songs'\n",
    "    duplicates = not_hot_songs.merge(hot_100_songs, on=['Title', 'Artist'], how='inner')\n",
    "    \n",
    "    if duplicates.empty:\n",
    "        print(\"No Duplicates\")\n",
    "        return not_hot_songs\n",
    "\n",
    "    # Drop duplicate rows in 'not_hot_songs' that exist in 'hot_100_songs'\n",
    "    not_hot_songs = not_hot_songs.drop_duplicates(subset=['Title', 'Artist'], keep=False)\n",
    "\n",
    "    return not_hot_songs"
   ]
  },
  {
   "cell_type": "code",
   "execution_count": 15,
   "id": "0d32b0f0-fb4c-4716-8109-8c2d28c6dd5e",
   "metadata": {},
   "outputs": [
    {
     "name": "stdout",
     "output_type": "stream",
     "text": [
      "No Duplicates\n",
      "                                 Title                    Artist\n",
      "0                     I Didn't Mean To                    Casual\n",
      "1                            Soul Deep              The Box Tops\n",
      "2                      Amor De Cabaret          Sonora Santanera\n",
      "3                      Something Girls                  Adam Ant\n",
      "4                       Face the Ashes                       Gob\n",
      "...                                ...                       ...\n",
      "9995                    The Hanged Man                 Moonspell\n",
      "9996  The Wonderful World Of The Young            Danny Williams\n",
      "9997                   Sentimental Man             Winston Reedy\n",
      "9998                 Zydeco In D-Minor  Myrick \"Freeze\" Guillory\n",
      "9999                    Shattered Life       Seventh Day Slumber\n",
      "\n",
      "[10000 rows x 2 columns]\n"
     ]
    }
   ],
   "source": [
    "# Call the function to remove duplicates\n",
    "filtered_songs = remove_duplicates(not_hot_songs, hot_100_songs)\n",
    "\n",
    "# Print the updated dataframe\n",
    "print(filtered_songs)"
   ]
  },
  {
   "cell_type": "code",
   "execution_count": 16,
   "id": "da8d253f-f74e-4ab5-9370-7c2dd87f0bdc",
   "metadata": {},
   "outputs": [],
   "source": [
    "filtered_songs = pd.DataFrame({\"Title\": all_titles, \"Artist\": all_artists})"
   ]
  },
  {
   "cell_type": "code",
   "execution_count": 17,
   "id": "fb6ee12f-c128-4836-b597-26d36795f3ea",
   "metadata": {},
   "outputs": [],
   "source": [
    "not_hot_songs = filtered_songs"
   ]
  },
  {
   "cell_type": "code",
   "execution_count": 18,
   "id": "6505b3aa-bc26-4eb9-8cb2-90287620486c",
   "metadata": {},
   "outputs": [],
   "source": [
    "not_hot_songs['Title'] = not_hot_songs['Title'].str.decode('utf-8').str.strip(\"'\")\n",
    "not_hot_songs['Artist'] = not_hot_songs['Artist'].str.decode('utf-8').str.strip(\"'\")"
   ]
  },
  {
   "cell_type": "code",
   "execution_count": 19,
   "id": "93c34444-a8c5-4c61-bb31-089d7fff03cd",
   "metadata": {},
   "outputs": [],
   "source": [
    "not_hot_songs = not_hot_songs.to_csv('not_hot_songs.csv', index=False)"
   ]
  },
  {
   "cell_type": "code",
   "execution_count": null,
   "id": "df2831ac-205e-41db-abd4-b8b70c67c512",
   "metadata": {},
   "outputs": [],
   "source": []
  }
 ],
 "metadata": {
  "kernelspec": {
   "display_name": "Python 3 (ipykernel)",
   "language": "python",
   "name": "python3"
  },
  "language_info": {
   "codemirror_mode": {
    "name": "ipython",
    "version": 3
   },
   "file_extension": ".py",
   "mimetype": "text/x-python",
   "name": "python",
   "nbconvert_exporter": "python",
   "pygments_lexer": "ipython3",
   "version": "3.10.9"
  }
 },
 "nbformat": 4,
 "nbformat_minor": 5
}
